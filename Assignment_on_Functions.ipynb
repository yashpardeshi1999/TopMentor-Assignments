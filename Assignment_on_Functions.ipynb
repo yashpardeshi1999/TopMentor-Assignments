{
 "cells": [
  {
   "cell_type": "markdown",
   "metadata": {
    "id": "SA0zwy1HTiK-"
   },
   "source": [
    "Define a function that accepts a number and returns whether the number is even or odd."
   ]
  },
  {
   "cell_type": "code",
   "execution_count": 4,
   "metadata": {
    "id": "QYp14SD5p2cw"
   },
   "outputs": [],
   "source": [
    "def check_even_odd(number):\n",
    "    if number % 2 == 0:\n",
    "        print(number,'is Even Number')\n",
    "    else:\n",
    "        print(number,'is Odd Number')"
   ]
  },
  {
   "cell_type": "code",
   "execution_count": 5,
   "metadata": {},
   "outputs": [
    {
     "name": "stdout",
     "output_type": "stream",
     "text": [
      "18 is Even Number\n"
     ]
    }
   ],
   "source": [
    "check_even_odd(18)"
   ]
  },
  {
   "cell_type": "code",
   "execution_count": 6,
   "metadata": {},
   "outputs": [
    {
     "name": "stdout",
     "output_type": "stream",
     "text": [
      "29 is Odd Number\n"
     ]
    }
   ],
   "source": [
    "check_even_odd(29)"
   ]
  },
  {
   "cell_type": "markdown",
   "metadata": {
    "id": "eFB9qeBSTxRd"
   },
   "source": [
    "Define a function to create and print a list where the values are square of numbers between 1 and 30 (both included)."
   ]
  },
  {
   "cell_type": "code",
   "execution_count": 33,
   "metadata": {
    "id": "xoZ8le6R3zmW"
   },
   "outputs": [],
   "source": [
    "def squares():\n",
    "    squares=[i**2 for i in range(1,31)]\n",
    "    print(squares)"
   ]
  },
  {
   "cell_type": "code",
   "execution_count": 34,
   "metadata": {},
   "outputs": [
    {
     "name": "stdout",
     "output_type": "stream",
     "text": [
      "[1, 4, 9, 16, 25, 36, 49, 64, 81, 100, 121, 144, 169, 196, 225, 256, 289, 324, 361, 400, 441, 484, 529, 576, 625, 676, 729, 784, 841, 900]\n"
     ]
    }
   ],
   "source": [
    "squares()"
   ]
  },
  {
   "cell_type": "markdown",
   "metadata": {
    "id": "WPKsEW0dUIZF"
   },
   "source": [
    "Define a function, shut_down, that takes one parameter. Then, if the shut_down function receives a value equal to \"yes\", it should print \"Shutting down\". Alternatively, if vallue is equal to \"no\", then the function should print \"Shutdown aborted\". Finally, if shut_down gets anything other than those inputs, the function should print \"Sorry\"."
   ]
  },
  {
   "cell_type": "code",
   "execution_count": 23,
   "metadata": {
    "id": "BErvgTSlp4BA"
   },
   "outputs": [],
   "source": [
    "def shutdown(command):\n",
    "    if command=='yes':\n",
    "        print(\"Shutting Down\")\n",
    "    elif command=='no':\n",
    "        print('Shutdown aborted')\n",
    "    else:\n",
    "        print('Sorry')"
   ]
  },
  {
   "cell_type": "code",
   "execution_count": 26,
   "metadata": {},
   "outputs": [
    {
     "name": "stdout",
     "output_type": "stream",
     "text": [
      "Shutting Down\n"
     ]
    }
   ],
   "source": [
    "shutdown(\"yes\")"
   ]
  },
  {
   "cell_type": "code",
   "execution_count": 27,
   "metadata": {},
   "outputs": [
    {
     "name": "stdout",
     "output_type": "stream",
     "text": [
      "Shutdown aborted\n"
     ]
    }
   ],
   "source": [
    "shutdown(\"no\")"
   ]
  },
  {
   "cell_type": "code",
   "execution_count": 29,
   "metadata": {},
   "outputs": [
    {
     "name": "stdout",
     "output_type": "stream",
     "text": [
      "Sorry\n"
     ]
    }
   ],
   "source": [
    "shutdown(\"neutral\")"
   ]
  },
  {
   "cell_type": "markdown",
   "metadata": {
    "id": "KosfqTW8Ur_1"
   },
   "source": [
    "\n",
    "\n",
    "Define a function called \"by_three\" that takes a parameter called number. If that number is divisible by 3, \"by_three\" should print the cube of the number. Otherwise, by_three should print False."
   ]
  },
  {
   "cell_type": "code",
   "execution_count": 30,
   "metadata": {
    "id": "ma_rcX6sp4nW"
   },
   "outputs": [],
   "source": [
    "def by_three(number):\n",
    "    if number%3==0:\n",
    "        print(number**3)\n",
    "    else:\n",
    "        print('False')"
   ]
  },
  {
   "cell_type": "code",
   "execution_count": 31,
   "metadata": {},
   "outputs": [
    {
     "name": "stdout",
     "output_type": "stream",
     "text": [
      "729\n"
     ]
    }
   ],
   "source": [
    "by_three(9)"
   ]
  },
  {
   "cell_type": "code",
   "execution_count": 32,
   "metadata": {},
   "outputs": [
    {
     "name": "stdout",
     "output_type": "stream",
     "text": [
      "False\n"
     ]
    }
   ],
   "source": [
    "by_three(10)"
   ]
  },
  {
   "cell_type": "markdown",
   "metadata": {
    "id": "EWbQXeU5WpdZ"
   },
   "source": [
    "Define a function that takes a list and prints a new list with no duplicate elements given in the first list."
   ]
  },
  {
   "cell_type": "code",
   "execution_count": 35,
   "metadata": {
    "id": "BAtCg5oY33BO"
   },
   "outputs": [],
   "source": [
    "def removing_duplicates(input_list):\n",
    "    no_duplicate=list(set(input_list))\n",
    "    print(no_duplicate)"
   ]
  },
  {
   "cell_type": "code",
   "execution_count": 36,
   "metadata": {},
   "outputs": [
    {
     "name": "stdout",
     "output_type": "stream",
     "text": [
      "[1, 2, 3, 4, 5]\n"
     ]
    }
   ],
   "source": [
    "removing_duplicates([1,2,2,3,3,4,4,5])"
   ]
  }
 ],
 "metadata": {
  "colab": {
   "provenance": []
  },
  "kernelspec": {
   "display_name": "Python 3 (ipykernel)",
   "language": "python",
   "name": "python3"
  },
  "language_info": {
   "codemirror_mode": {
    "name": "ipython",
    "version": 3
   },
   "file_extension": ".py",
   "mimetype": "text/x-python",
   "name": "python",
   "nbconvert_exporter": "python",
   "pygments_lexer": "ipython3",
   "version": "3.10.9"
  }
 },
 "nbformat": 4,
 "nbformat_minor": 1
}
