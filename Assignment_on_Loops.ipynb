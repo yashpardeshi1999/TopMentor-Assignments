{
 "cells": [
  {
   "cell_type": "markdown",
   "metadata": {
    "id": "MdAkQQ_Y4wwG"
   },
   "source": [
    "Write a program which accepts month's name as input and display the number of days in the month as output"
   ]
  },
  {
   "cell_type": "code",
   "execution_count": 1,
   "metadata": {
    "id": "5CHcmXp1CKEa"
   },
   "outputs": [
    {
     "name": "stdout",
     "output_type": "stream",
     "text": [
      "Enter the month's name: January\n",
      "January has 31 days.\n"
     ]
    }
   ],
   "source": [
    "month_days = {\n",
    "    'january': 31,\n",
    "    'february': 28, \n",
    "    'march': 31,\n",
    "    'april': 30,\n",
    "    'may': 31,\n",
    "    'june': 30,\n",
    "    'july': 31,\n",
    "    'august': 31,\n",
    "    'september': 30,\n",
    "    'october': 31,\n",
    "    'november': 30,\n",
    "    'december': 31\n",
    "}\n",
    "month_name = input(\"Enter the month's name: \").lower()\n",
    "\n",
    "for month, days in month_days.items():\n",
    "    if month == month_name:\n",
    "        print(f\"{month.capitalize()} has {days} days.\")\n",
    "        break\n",
    "else:\n",
    "    print(\"Invalid month name entered.\")\n"
   ]
  },
  {
   "cell_type": "markdown",
   "metadata": {
    "id": "Q8cCBC198J6M"
   },
   "source": [
    "Take any word as input from the user and count the number of vowels in the word"
   ]
  },
  {
   "cell_type": "code",
   "execution_count": 2,
   "metadata": {
    "id": "fCmmgoZfCKga"
   },
   "outputs": [
    {
     "name": "stdout",
     "output_type": "stream",
     "text": [
      "Enter a word: yash\n",
      "The number of vowels in 'yash' is: 1\n"
     ]
    }
   ],
   "source": [
    "word = input(\"Enter a word: \").lower() \n",
    "vowel_count = 0\n",
    "index = 0\n",
    "vowels = ['a', 'e', 'i', 'o', 'u']\n",
    "while index < len(word):\n",
    "    if word[index] in vowels:\n",
    "        vowel_count += 1\n",
    "    index += 1\n",
    "\n",
    "print(f\"The number of vowels in '{word}' is: {vowel_count}\")"
   ]
  },
  {
   "cell_type": "markdown",
   "metadata": {
    "id": "1ugWwVXd49OI"
   },
   "source": [
    "Write a program to separate even and odd numbers in two distinct lists from a list of numbers of your choice"
   ]
  },
  {
   "cell_type": "code",
   "execution_count": 4,
   "metadata": {
    "id": "p0MPJzU6CK6f"
   },
   "outputs": [
    {
     "name": "stdout",
     "output_type": "stream",
     "text": [
      "Even numbers: [62, 78, 12, 56, 8]\n",
      "Odd numbers: [23, 45, 37, 91, 17]\n"
     ]
    }
   ],
   "source": [
    "numbers = [23, 45, 62, 78, 12, 37, 56, 91, 8, 17]\n",
    "even_numbers = []\n",
    "odd_numbers = []\n",
    "for number in numbers:\n",
    "    if number % 2 == 0:\n",
    "        even_numbers.append(number)\n",
    "    else:\n",
    "        odd_numbers.append(number)\n",
    "\n",
    "print(\"Even numbers:\", even_numbers)\n",
    "print(\"Odd numbers:\", odd_numbers)"
   ]
  },
  {
   "cell_type": "markdown",
   "metadata": {
    "id": "uaqnGrhs49Mf"
   },
   "source": [
    "Write a program that appends datatype of elements from a list to a separate list"
   ]
  },
  {
   "cell_type": "code",
   "execution_count": 6,
   "metadata": {
    "id": "ypNro7WSCLX7"
   },
   "outputs": [
    {
     "name": "stdout",
     "output_type": "stream",
     "text": [
      "Data types of elements: [<class 'int'>, <class 'float'>, <class 'str'>, <class 'bool'>, <class 'list'>, <class 'dict'>, <class 'NoneType'>]\n"
     ]
    }
   ],
   "source": [
    "elements = [10, 3.14, \"Hello\", True, [1, 2, 3], {'a': 1, 'b': 2}, None]\n",
    "data_types = []\n",
    "\n",
    "for element in elements:\n",
    "    data_type = type(element)\n",
    "    data_types.append(data_type)\n",
    "\n",
    "print(\"Data types of elements:\", data_types)"
   ]
  },
  {
   "cell_type": "markdown",
   "metadata": {
    "id": "ddMu0Pj1643Y"
   },
   "source": [
    "Write a program to display only those numbers from a list that satisfies the following conditions:\n",
    "\n",
    "1. The number must be divisible by 7\n",
    "\n",
    "2. If the number is 140 then skip it and move to the next number in the list\n",
    "\n",
    "3. If the number in the list is greater than 630 then stop the loop"
   ]
  },
  {
   "cell_type": "code",
   "execution_count": 7,
   "metadata": {
    "id": "230Qc9UHTK5-"
   },
   "outputs": [
    {
     "name": "stdout",
     "output_type": "stream",
     "text": [
      "56\n",
      "49\n",
      "210\n",
      "350\n",
      "462\n",
      "630\n"
     ]
    }
   ],
   "source": [
    "numbers = [56, 140, 49, 210, 350, 462, 630, 721, 840, 1050]\n",
    "\n",
    "for number in numbers:\n",
    "    if number == 140:\n",
    "        continue  \n",
    "    if number > 630:\n",
    "        break \n",
    "    if number % 7 == 0:\n",
    "        print(number)"
   ]
  }
 ],
 "metadata": {
  "colab": {
   "provenance": []
  },
  "kernelspec": {
   "display_name": "Python 3 (ipykernel)",
   "language": "python",
   "name": "python3"
  },
  "language_info": {
   "codemirror_mode": {
    "name": "ipython",
    "version": 3
   },
   "file_extension": ".py",
   "mimetype": "text/x-python",
   "name": "python",
   "nbconvert_exporter": "python",
   "pygments_lexer": "ipython3",
   "version": "3.10.9"
  }
 },
 "nbformat": 4,
 "nbformat_minor": 1
}
