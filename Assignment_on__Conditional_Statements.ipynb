{
 "cells": [
  {
   "cell_type": "markdown",
   "metadata": {
    "id": "AcR_27Hh5QTe"
   },
   "source": [
    "Take three numbers 'x', 'y' and 'z' as input from the user and check which number is greater\n"
   ]
  },
  {
   "cell_type": "code",
   "execution_count": 1,
   "metadata": {
    "id": "ZqmjTxbD5QG4"
   },
   "outputs": [
    {
     "name": "stdout",
     "output_type": "stream",
     "text": [
      "Enter x number: 12\n",
      "Enter y number: 13\n",
      "Enter z number: 11\n",
      "The greatest no. is y\n"
     ]
    }
   ],
   "source": [
    "x=int(input(\"Enter x number: \"))\n",
    "y=int(input(\"Enter y number: \"))\n",
    "z=int(input('Enter z number: '))\n",
    "\n",
    "if x>y and x>z:\n",
    "    print('The greatest no. is x')\n",
    "elif y>x and y>z:\n",
    "    print('The greatest no. is y')\n",
    "else:\n",
    "    print('The greatest no. is z')"
   ]
  },
  {
   "cell_type": "markdown",
   "metadata": {
    "id": "QgkCsQlx4c5Y"
   },
   "source": [
    "Take an alphabet as input from the user and check if the alphabet is a vowel, consonant or an exception\n",
    "\n",
    "\n",
    "Vowel - 'a','e','i','o','u'\n",
    "\n",
    "Exception - 'h', 'y'\n",
    "\n",
    "Consonant - rest other alphabets"
   ]
  },
  {
   "cell_type": "code",
   "execution_count": 2,
   "metadata": {
    "id": "mTRgMPbt4dTk"
   },
   "outputs": [
    {
     "name": "stdout",
     "output_type": "stream",
     "text": [
      "Enter an alphabet: a\n",
      "a is a Vowel.\n"
     ]
    }
   ],
   "source": [
    "alphabet=input(\"Enter an alphabet: \").lower()\n",
    "if alphabet in ('a','e','i','o','u'):\n",
    "    print(f\"{alphabet} is a Vowel.\")\n",
    "elif alphabet in ('h', 'y'):\n",
    "    print(f\"{alphabet} is an Exception.\")\n",
    "else:\n",
    "    print(f\"{alphabet} is a Consonent.\")"
   ]
  },
  {
   "cell_type": "code",
   "execution_count": 3,
   "metadata": {},
   "outputs": [
    {
     "name": "stdout",
     "output_type": "stream",
     "text": [
      "Enter an alphabet: h\n",
      "h is an Exception.\n"
     ]
    }
   ],
   "source": [
    "alphabet=input(\"Enter an alphabet: \").lower()\n",
    "if alphabet in ('a','e','i','o','u'):\n",
    "    print(f\"{alphabet} is a Vowel.\")\n",
    "elif alphabet in ('h', 'y'):\n",
    "    print(f\"{alphabet} is an Exception.\")\n",
    "else:\n",
    "    print(f\"{alphabet} is a Consonent.\")"
   ]
  },
  {
   "cell_type": "code",
   "execution_count": 4,
   "metadata": {},
   "outputs": [
    {
     "name": "stdout",
     "output_type": "stream",
     "text": [
      "Enter an alphabet: p\n",
      "p is a Consonent.\n"
     ]
    }
   ],
   "source": [
    "alphabet=input(\"Enter an alphabet: \").lower()\n",
    "if alphabet in ('a','e','i','o','u'):\n",
    "    print(f\"{alphabet} is a Vowel.\")\n",
    "elif alphabet in ('h', 'y'):\n",
    "    print(f\"{alphabet} is an Exception.\")\n",
    "else:\n",
    "    print(f\"{alphabet} is a Consonent.\")"
   ]
  },
  {
   "cell_type": "markdown",
   "metadata": {
    "id": "5TqcIsuG4N4x"
   },
   "source": [
    "Write a program to check whether a number given by a user is divisible by 2 and 3 both"
   ]
  },
  {
   "cell_type": "code",
   "execution_count": 5,
   "metadata": {
    "id": "1TobEmuY4NkT"
   },
   "outputs": [
    {
     "name": "stdout",
     "output_type": "stream",
     "text": [
      "Enter your no.: 6\n",
      "It is divisible by both 2 and 3\n"
     ]
    }
   ],
   "source": [
    "number=int(input('Enter your no.: '))\n",
    "if number%2==0 and number%3==0:\n",
    "    print('It is divisible by both 2 and 3')\n",
    "else:\n",
    "    print('It is not divisible by both 2 and 3')"
   ]
  },
  {
   "cell_type": "code",
   "execution_count": 6,
   "metadata": {},
   "outputs": [
    {
     "name": "stdout",
     "output_type": "stream",
     "text": [
      "Enter your no.: 9\n",
      "It is not divisible by both 2 and 3\n"
     ]
    }
   ],
   "source": [
    "number=int(input('Enter your no.: '))\n",
    "if number%2==0 and number%3==0:\n",
    "    print('It is divisible by both 2 and 3')\n",
    "else:\n",
    "    print('It is not divisible by both 2 and 3')"
   ]
  },
  {
   "cell_type": "markdown",
   "metadata": {
    "id": "Vl0l7eM93o-k"
   },
   "source": [
    "Write a program to accept the cost price  of a bike as input and display the road tax to be paid according to the following crieteria :-\n",
    "\n",
    "Cost price - 100000 Tax - 15%\n",
    "\n",
    "Cost price - between 50000 to 100000 Tax - 10%\n",
    "\n",
    "Cost price - less than 50000 Tax - 5%"
   ]
  },
  {
   "cell_type": "code",
   "execution_count": 7,
   "metadata": {
    "id": "TdHw-M2Z3lkL"
   },
   "outputs": [
    {
     "name": "stdout",
     "output_type": "stream",
     "text": [
      "Enter cost price of bike: 140000\n",
      "The road tax to be paid is 21000.0\n"
     ]
    }
   ],
   "source": [
    "cost_price=int(input('Enter cost price of bike: '))\n",
    "if cost_price<50000:\n",
    "    tax=(5/100)*cost_price\n",
    "elif 50000<=cost_price<=100000:\n",
    "    tax=(10/100)*cost_price\n",
    "else:\n",
    "    tax=(15/100)*cost_price\n",
    "    \n",
    "print(f\"The road tax to be paid is {tax}\")"
   ]
  },
  {
   "cell_type": "markdown",
   "metadata": {
    "id": "4qwB-dyV2vdv"
   },
   "source": [
    "Write a program to calculate the electricity bill by accepting the number of units consumed by the user as input. Use the following price chart for reference :-\n",
    "\n",
    "Price of first 100 units - no charge\n",
    "\n",
    "Price of next 100 units - Rs 5/- per unit\n",
    "\n",
    "After 200 units - Rs 10/- per unit"
   ]
  },
  {
   "cell_type": "code",
   "execution_count": 8,
   "metadata": {
    "id": "9CRK7oBa2rjP"
   },
   "outputs": [
    {
     "name": "stdout",
     "output_type": "stream",
     "text": [
      "Please enter the number of units consumed: 200\n",
      "Electricity Bill = ₹500.00\n"
     ]
    }
   ],
   "source": [
    "def calculate_electricity_bill(units):\n",
    "    if units <= 100:\n",
    "        amount = 0  # No charge for the first 100 units\n",
    "    elif units <= 200:\n",
    "        amount = (units - 100) * 5\n",
    "    else:\n",
    "        amount = 100 * 5 + (units - 200) * 10\n",
    "\n",
    "    print(f\"Electricity Bill = ₹{amount:.2f}\")\n",
    "\n",
    "# Get user input\n",
    "units_consumed = int(input(\"Please enter the number of units consumed: \"))\n",
    "calculate_electricity_bill(units_consumed)\n",
    "\n",
    "#this was a bit challenging question so I used a bit of chatgpt to get it done properly."
   ]
  }
 ],
 "metadata": {
  "colab": {
   "provenance": []
  },
  "kernelspec": {
   "display_name": "Python 3 (ipykernel)",
   "language": "python",
   "name": "python3"
  },
  "language_info": {
   "codemirror_mode": {
    "name": "ipython",
    "version": 3
   },
   "file_extension": ".py",
   "mimetype": "text/x-python",
   "name": "python",
   "nbconvert_exporter": "python",
   "pygments_lexer": "ipython3",
   "version": "3.10.9"
  }
 },
 "nbformat": 4,
 "nbformat_minor": 1
}
