{
 "cells": [
  {
   "cell_type": "markdown",
   "id": "97bf5a40",
   "metadata": {},
   "source": [
    "#### 1)What is the result of the following expression "
   ]
  },
  {
   "cell_type": "code",
   "execution_count": 1,
   "id": "e7d11885",
   "metadata": {},
   "outputs": [
    {
     "data": {
      "text/plain": [
       "11"
      ]
     },
     "execution_count": 1,
     "metadata": {},
     "output_type": "execute_result"
    }
   ],
   "source": [
    "5+3*2"
   ]
  },
  {
   "cell_type": "markdown",
   "id": "a569f4ce",
   "metadata": {},
   "source": [
    "#### The result is 11"
   ]
  },
  {
   "cell_type": "markdown",
   "id": "29d061b7",
   "metadata": {},
   "source": [
    "#### 2)What is the output of the following code?"
   ]
  },
  {
   "cell_type": "code",
   "execution_count": 2,
   "id": "7301b45a",
   "metadata": {},
   "outputs": [
    {
     "name": "stdout",
     "output_type": "stream",
     "text": [
      "15\n"
     ]
    }
   ],
   "source": [
    "x=5\n",
    "y=10\n",
    "x+=y\n",
    "print(x)"
   ]
  },
  {
   "cell_type": "markdown",
   "id": "da8f3290",
   "metadata": {},
   "source": [
    "#### The output is 15."
   ]
  },
  {
   "cell_type": "markdown",
   "id": "e238871e",
   "metadata": {},
   "source": [
    "#### 3)Evaluate the following boolean expression"
   ]
  },
  {
   "cell_type": "code",
   "execution_count": 3,
   "id": "87aed0c3",
   "metadata": {},
   "outputs": [
    {
     "data": {
      "text/plain": [
       "True"
      ]
     },
     "execution_count": 3,
     "metadata": {},
     "output_type": "execute_result"
    }
   ],
   "source": [
    "(10>5) and (not(5>10))"
   ]
  },
  {
   "cell_type": "markdown",
   "id": "d3c9019a",
   "metadata": {},
   "source": [
    "#### Its True"
   ]
  },
  {
   "cell_type": "markdown",
   "id": "8043033d",
   "metadata": {},
   "source": [
    "#### 4)What is the result of following division? "
   ]
  },
  {
   "cell_type": "code",
   "execution_count": 4,
   "id": "d26d6689",
   "metadata": {},
   "outputs": [
    {
     "data": {
      "text/plain": [
       "3.5"
      ]
     },
     "execution_count": 4,
     "metadata": {},
     "output_type": "execute_result"
    }
   ],
   "source": [
    "7/2"
   ]
  },
  {
   "cell_type": "markdown",
   "id": "30783d8b",
   "metadata": {},
   "source": [
    "#### The result is 3.5"
   ]
  },
  {
   "cell_type": "markdown",
   "id": "2028aa0b",
   "metadata": {},
   "source": [
    "#### 5)What will be value and type of 'x' after the following operation?"
   ]
  },
  {
   "cell_type": "code",
   "execution_count": 8,
   "id": "0b3d9dd6",
   "metadata": {},
   "outputs": [
    {
     "data": {
      "text/plain": [
       "int"
      ]
     },
     "execution_count": 8,
     "metadata": {},
     "output_type": "execute_result"
    }
   ],
   "source": [
    "x=4//2\n",
    "type(x)"
   ]
  },
  {
   "cell_type": "code",
   "execution_count": 9,
   "id": "9924a009",
   "metadata": {},
   "outputs": [
    {
     "name": "stdout",
     "output_type": "stream",
     "text": [
      "2\n"
     ]
    }
   ],
   "source": [
    "print(x)"
   ]
  },
  {
   "cell_type": "markdown",
   "id": "67545215",
   "metadata": {},
   "source": [
    "#### Value of x is 2, Type of x is Integer."
   ]
  },
  {
   "cell_type": "markdown",
   "id": "736e7ddd",
   "metadata": {},
   "source": [
    "#### 6)What is the output of following code?"
   ]
  },
  {
   "cell_type": "code",
   "execution_count": 10,
   "id": "f22f7bf2",
   "metadata": {},
   "outputs": [
    {
     "name": "stdout",
     "output_type": "stream",
     "text": [
      "[4, 2, 3]\n"
     ]
    }
   ],
   "source": [
    "a=[1,2,3]\n",
    "b=a\n",
    "b[0]=4\n",
    "print(a)"
   ]
  },
  {
   "cell_type": "markdown",
   "id": "49be72ea",
   "metadata": {},
   "source": [
    "#### The output of this code is [4,2,3]"
   ]
  },
  {
   "cell_type": "markdown",
   "id": "2ecd7ff6",
   "metadata": {},
   "source": [
    "#### 7)What does the following slice operation return?"
   ]
  },
  {
   "cell_type": "code",
   "execution_count": 11,
   "id": "8122f2f7",
   "metadata": {},
   "outputs": [
    {
     "name": "stdout",
     "output_type": "stream",
     "text": [
      "ell\n"
     ]
    }
   ],
   "source": [
    "s='hello'\n",
    "print(s[1:4])"
   ]
  },
  {
   "cell_type": "markdown",
   "id": "72c3e71f",
   "metadata": {},
   "source": [
    "#### The slice operation returns \"ell\""
   ]
  },
  {
   "cell_type": "markdown",
   "id": "778108b4",
   "metadata": {},
   "source": [
    "#### 8)What will be the value of 'result'?"
   ]
  },
  {
   "cell_type": "code",
   "execution_count": 12,
   "id": "a381271d",
   "metadata": {},
   "outputs": [
    {
     "name": "stdout",
     "output_type": "stream",
     "text": [
      "512\n"
     ]
    }
   ],
   "source": [
    "result=2 ** 3 ** 2\n",
    "print(result)"
   ]
  },
  {
   "cell_type": "markdown",
   "id": "d584405c",
   "metadata": {},
   "source": [
    "#### The value of result is 512"
   ]
  },
  {
   "cell_type": "markdown",
   "id": "24d115b0",
   "metadata": {},
   "source": [
    "#### 9)Given the list a=[1,2,3,4,5],what will be the result of a[::-1]?"
   ]
  },
  {
   "cell_type": "code",
   "execution_count": 14,
   "id": "edf792d2",
   "metadata": {},
   "outputs": [
    {
     "name": "stdout",
     "output_type": "stream",
     "text": [
      "[5, 4, 3, 2, 1]\n"
     ]
    }
   ],
   "source": [
    "a=[1,2,3,4,5]\n",
    "print(a[::-1])"
   ]
  },
  {
   "cell_type": "markdown",
   "id": "83e941d6",
   "metadata": {},
   "source": [
    "#### The result of a[::-1] is [5, 4, 3, 2, 1]"
   ]
  },
  {
   "cell_type": "markdown",
   "id": "7b4d100f",
   "metadata": {},
   "source": [
    "#### 10)Evaluate the following expression"
   ]
  },
  {
   "cell_type": "code",
   "execution_count": 15,
   "id": "d954c973",
   "metadata": {},
   "outputs": [
    {
     "data": {
      "text/plain": [
       "1"
      ]
     },
     "execution_count": 15,
     "metadata": {},
     "output_type": "execute_result"
    }
   ],
   "source": [
    "10%3"
   ]
  },
  {
   "cell_type": "markdown",
   "id": "9540ef9c",
   "metadata": {},
   "source": [
    "#### Answer of 10th question is 1."
   ]
  },
  {
   "cell_type": "markdown",
   "id": "d3792a05",
   "metadata": {},
   "source": [
    "#### 11)What is the result of following code?"
   ]
  },
  {
   "cell_type": "code",
   "execution_count": 16,
   "id": "a110598f",
   "metadata": {},
   "outputs": [
    {
     "name": "stdout",
     "output_type": "stream",
     "text": [
      "True\n",
      "False\n"
     ]
    }
   ],
   "source": [
    "x=[1,2,3]\n",
    "y=[1,2,3]\n",
    "print(x==y)\n",
    "print(x is y)"
   ]
  },
  {
   "cell_type": "markdown",
   "id": "95aeb2af",
   "metadata": {},
   "source": [
    "#### print(x==y)is True, print(x is y) is False "
   ]
  },
  {
   "cell_type": "markdown",
   "id": "0c332b7f",
   "metadata": {},
   "source": [
    "#### 12)What  is output of following code?"
   ]
  },
  {
   "cell_type": "code",
   "execution_count": 18,
   "id": "3fc3d879",
   "metadata": {},
   "outputs": [
    {
     "name": "stdout",
     "output_type": "stream",
     "text": [
      "PythonPythonPython\n"
     ]
    }
   ],
   "source": [
    "x='Python'\n",
    "y=x*3\n",
    "print(y)"
   ]
  },
  {
   "cell_type": "markdown",
   "id": "6b3ff726",
   "metadata": {},
   "source": [
    "#### The output of the following code is PythonPythonPython"
   ]
  },
  {
   "cell_type": "markdown",
   "id": "af0bb8a7",
   "metadata": {},
   "source": [
    "#### 13)What is type and value of x?"
   ]
  },
  {
   "cell_type": "code",
   "execution_count": 21,
   "id": "aff216bf",
   "metadata": {},
   "outputs": [
    {
     "name": "stdout",
     "output_type": "stream",
     "text": [
      "2\n"
     ]
    }
   ],
   "source": [
    "x=True+1\n",
    "print(x)"
   ]
  },
  {
   "cell_type": "code",
   "execution_count": 22,
   "id": "672b509a",
   "metadata": {},
   "outputs": [
    {
     "data": {
      "text/plain": [
       "int"
      ]
     },
     "execution_count": 22,
     "metadata": {},
     "output_type": "execute_result"
    }
   ],
   "source": [
    "type(x)"
   ]
  },
  {
   "cell_type": "markdown",
   "id": "b1973f7a",
   "metadata": {},
   "source": [
    "#### The type is integer and value is 2."
   ]
  },
  {
   "cell_type": "markdown",
   "id": "48dd6dd9",
   "metadata": {},
   "source": [
    "#### 14)output of the following comparison?"
   ]
  },
  {
   "cell_type": "code",
   "execution_count": 23,
   "id": "45b85fd8",
   "metadata": {},
   "outputs": [
    {
     "name": "stdout",
     "output_type": "stream",
     "text": [
      "True\n"
     ]
    }
   ],
   "source": [
    "print('abc'<'abd')"
   ]
  },
  {
   "cell_type": "markdown",
   "id": "2235827c",
   "metadata": {},
   "source": [
    "#### The output is True!"
   ]
  },
  {
   "cell_type": "markdown",
   "id": "cfc20d06",
   "metadata": {},
   "source": [
    "#### 15)What is result of following code?"
   ]
  },
  {
   "cell_type": "code",
   "execution_count": 24,
   "id": "480a995d",
   "metadata": {},
   "outputs": [
    {
     "name": "stdout",
     "output_type": "stream",
     "text": [
      "{'a': 1, 'b': 2, 'c': 3}\n"
     ]
    }
   ],
   "source": [
    "d={'a':1,'b':2}\n",
    "d['c']=3\n",
    "print(d)"
   ]
  },
  {
   "cell_type": "markdown",
   "id": "c7f8e2b4",
   "metadata": {},
   "source": [
    "#### The result of code is {'a': 1, 'b': 2, 'c': 3}"
   ]
  },
  {
   "cell_type": "markdown",
   "id": "d521f067",
   "metadata": {},
   "source": [
    "#### 16)Value of a?"
   ]
  },
  {
   "cell_type": "code",
   "execution_count": 26,
   "id": "c140a916",
   "metadata": {},
   "outputs": [
    {
     "name": "stdout",
     "output_type": "stream",
     "text": [
      "123456\n"
     ]
    }
   ],
   "source": [
    "a='123'\n",
    "a+='456'\n",
    "print(a)"
   ]
  },
  {
   "cell_type": "markdown",
   "id": "1c459fe3",
   "metadata": {},
   "source": [
    "#### The value of a is 123456"
   ]
  },
  {
   "cell_type": "markdown",
   "id": "3dc70d59",
   "metadata": {},
   "source": [
    "#### 17)What is output of following code?"
   ]
  },
  {
   "cell_type": "code",
   "execution_count": 27,
   "id": "50ebebdb",
   "metadata": {},
   "outputs": [
    {
     "name": "stdout",
     "output_type": "stream",
     "text": [
      "[1, 2, 3]\n",
      "[1, 2, 3, 4]\n"
     ]
    }
   ],
   "source": [
    "a=[1,2,3]\n",
    "b=a[:]\n",
    "b.append(4)\n",
    "print(a)\n",
    "print(b)"
   ]
  },
  {
   "cell_type": "markdown",
   "id": "049f2e79",
   "metadata": {},
   "source": [
    "#### a is [1,2,3] b is [1,2,3,4]"
   ]
  },
  {
   "cell_type": "markdown",
   "id": "7940f1ea",
   "metadata": {},
   "source": [
    "#### 18)Eavluate!"
   ]
  },
  {
   "cell_type": "code",
   "execution_count": 29,
   "id": "33a60ebe",
   "metadata": {},
   "outputs": [
    {
     "data": {
      "text/plain": [
       "108"
      ]
     },
     "execution_count": 29,
     "metadata": {},
     "output_type": "execute_result"
    }
   ],
   "source": [
    "3 * (2 + 4) ** 2"
   ]
  },
  {
   "cell_type": "markdown",
   "id": "42332939",
   "metadata": {},
   "source": [
    "#### Answer is 108."
   ]
  },
  {
   "cell_type": "markdown",
   "id": "8073049b",
   "metadata": {},
   "source": [
    "#### 19)Result of following expression?"
   ]
  },
  {
   "cell_type": "code",
   "execution_count": 30,
   "id": "bf5358d2",
   "metadata": {},
   "outputs": [
    {
     "name": "stdout",
     "output_type": "stream",
     "text": [
      "True\n"
     ]
    }
   ],
   "source": [
    "print(5 == 5.0)"
   ]
  },
  {
   "cell_type": "markdown",
   "id": "da1cd9cf",
   "metadata": {},
   "source": [
    "#### It shows True."
   ]
  },
  {
   "cell_type": "markdown",
   "id": "49b0f3b7",
   "metadata": {},
   "source": [
    "#### 20)output of following code!?"
   ]
  },
  {
   "cell_type": "code",
   "execution_count": 31,
   "id": "d7b55aa4",
   "metadata": {},
   "outputs": [
    {
     "name": "stdout",
     "output_type": "stream",
     "text": [
      "(1, 2, 3, 4)\n"
     ]
    }
   ],
   "source": [
    "x=(1,2,3)\n",
    "y=x+(4,)\n",
    "print(y)"
   ]
  },
  {
   "cell_type": "markdown",
   "id": "ed95a95f",
   "metadata": {},
   "source": [
    "#### Output is (1, 2, 3, 4)"
   ]
  }
 ],
 "metadata": {
  "kernelspec": {
   "display_name": "Python 3 (ipykernel)",
   "language": "python",
   "name": "python3"
  },
  "language_info": {
   "codemirror_mode": {
    "name": "ipython",
    "version": 3
   },
   "file_extension": ".py",
   "mimetype": "text/x-python",
   "name": "python",
   "nbconvert_exporter": "python",
   "pygments_lexer": "ipython3",
   "version": "3.10.9"
  }
 },
 "nbformat": 4,
 "nbformat_minor": 5
}
